{
 "cells": [
  {
   "cell_type": "markdown",
   "metadata": {},
   "source": [
    "## Пример использования модуля кастомного chatGPT "
   ]
  },
  {
   "cell_type": "code",
   "execution_count": 1,
   "metadata": {},
   "outputs": [
    {
     "name": "stdout",
     "output_type": "stream",
     "text": [
      "Вы можете оформить КАСКО на короткий срок, начиная от 1 часа поездки, 100 км пути или на время парковки.\n"
     ]
    }
   ],
   "source": [
    "from chunks import Chunk\n",
    "\n",
    "# использование кастомного chagpt через модуль\n",
    "chunk = Chunk(path_to_base=\"Simble.txt\")\n",
    "res = chunk.get_answer(query=\"На какой минимальный срок можно оформить КАСКО?\")\n",
    "print(res)"
   ]
  },
  {
   "cell_type": "markdown",
   "metadata": {},
   "source": [
    "## Пример использования простого API"
   ]
  },
  {
   "cell_type": "code",
   "execution_count": 1,
   "metadata": {},
   "outputs": [
    {
     "name": "stdout",
     "output_type": "stream",
     "text": [
      "{\"message\":\"Hello FastAPI\"}\n"
     ]
    }
   ],
   "source": [
    "import requests\n",
    "\n",
    "# запросы в fastapi_example\n",
    "response = requests.get(\"http://127.0.0.1:8000/\")\n",
    "print(response.text)"
   ]
  },
  {
   "cell_type": "code",
   "execution_count": 2,
   "metadata": {},
   "outputs": [
    {
     "name": "stdout",
     "output_type": "stream",
     "text": [
      "{\"message\":\"Страница с описанием проекта\"}\n"
     ]
    }
   ],
   "source": [
    "# запросы в fastapi_example\n",
    "response = requests.get(\"http://127.0.0.1:8000/about\")\n",
    "print(response.text)"
   ]
  },
  {
   "cell_type": "code",
   "execution_count": 3,
   "metadata": {},
   "outputs": [
    {
     "name": "stdout",
     "output_type": "stream",
     "text": [
      "{\"user_id\":\"85\"}\n"
     ]
    }
   ],
   "source": [
    "# запросы в fastapi_example\n",
    "response = requests.get(\"http://127.0.0.1:8000/users/85\")\n",
    "print(response.text)"
   ]
  },
  {
   "cell_type": "code",
   "execution_count": 4,
   "metadata": {},
   "outputs": [
    {
     "name": "stdout",
     "output_type": "stream",
     "text": [
      "{\"user_name\":\"Ivan\",\"description\":\"good item\",\"price\":42.3}\n"
     ]
    }
   ],
   "source": [
    "# запросы в fastapi_example\n",
    "payload={\"name\":\"Ivan\", \"description\":\"good item\", \"price\":42.3}\n",
    "response = requests.post(\"http://127.0.0.1:8000/users\", json=payload)\n",
    "print(response.text)"
   ]
  },
  {
   "cell_type": "markdown",
   "metadata": {},
   "source": [
    "## Пример использования API с кастомным chatGPT "
   ]
  },
  {
   "cell_type": "code",
   "execution_count": 1,
   "metadata": {},
   "outputs": [
    {
     "name": "stdout",
     "output_type": "stream",
     "text": [
      "{\"message\":\"Вы можете оформить КАСКО на короткий срок, начиная от 1 часа поездки, 100 км пути или на время парковки.\"}\n"
     ]
    }
   ],
   "source": [
    "import requests\n",
    "\n",
    "# использование кастомного chatgpt через кастомный api\n",
    "payload = {\"text\":\"На какой минимальный срок можно оформить КАСКО?\"}\n",
    "response = requests.post(\"http://127.0.0.1:8000/api/get_answer\", json=payload)\n",
    "print(response.text)"
   ]
  }
 ],
 "metadata": {
  "kernelspec": {
   "display_name": "base",
   "language": "python",
   "name": "python3"
  },
  "language_info": {
   "codemirror_mode": {
    "name": "ipython",
    "version": 3
   },
   "file_extension": ".py",
   "mimetype": "text/x-python",
   "name": "python",
   "nbconvert_exporter": "python",
   "pygments_lexer": "ipython3",
   "version": "3.9.18"
  }
 },
 "nbformat": 4,
 "nbformat_minor": 2
}
